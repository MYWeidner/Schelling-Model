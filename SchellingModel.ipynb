{
 "cells": [
  {
   "cell_type": "markdown",
   "id": "72b46045",
   "metadata": {},
   "source": [
    "# Schelling's Seasonal Sport World"
   ]
  },
  {
   "cell_type": "code",
   "execution_count": 1,
   "id": "cc6669d1",
   "metadata": {},
   "outputs": [],
   "source": [
    "import numpy as np\n",
    "from numpy.random import shuffle\n",
    "import random as rand\n",
    "import matplotlib.pyplot as plt\n",
    "from matplotlib import colors"
   ]
  },
  {
   "cell_type": "markdown",
   "id": "d155fecd",
   "metadata": {},
   "source": [
    "### Write a function to initialize the starting matrix for each scenario."
   ]
  },
  {
   "cell_type": "markdown",
   "id": "0d18f7f6",
   "metadata": {},
   "source": [
    "The first and second scenario can use the same function because they only use 2 types of neighbors. You should generate an array 100 people, 50 Winter sports fans and 50 Summer sports fans for the first 2 scenarios. The third scenario will have 33 Winter fans, 33 Summer fans, and 34 Summer/Winter fans. After you generate the array, randomly select 12 homes and set them to 0. 0 will represent a vacant home for this assignment. The Winter and Summer sport fans will be represented by a value of 1 and a value of 2. Homes that do not meet the neighbor requirement will be moved to these vacant homes until all of the homes meet the specified condition. After setting some homes to be vacant, we need to reshape our array into a 10x10 matrix instad of a 1x100 array. Once this is done we can begin the simulation.  "
   ]
  },
  {
   "cell_type": "markdown",
   "id": "9e328f8a",
   "metadata": {},
   "source": [
    "#### Function to initialize the starting matrix for the 1st and 2nd scenario"
   ]
  },
  {
   "cell_type": "code",
   "execution_count": 2,
   "id": "a29b25a3",
   "metadata": {
    "scrolled": true,
    "tags": []
   },
   "outputs": [],
   "source": [
    "#Scenario 1 & 2 Start-Up\n",
    "def startUp1and2():\n",
    "    #make a randomized array with 50 winter sports fans and 50 summer sports fans\n",
    "    sports = np.random.randint(1, 3, 100)\n",
    "    np.random.shuffle(sports) # shuffle array\n",
    "    \n",
    "    #once you have a randomized initial array, randomly select 12 homes and make them vacant\n",
    "    for i in range(12):\n",
    "        index = np.random.randint(0, 100) # randomly select a number between 0 and 100\n",
    "        sports[index] = 0 # set the randomly selected index to 0\n",
    "    \n",
    "    #reshape our array so it is in a 10x10 matrix rather than a 1x100 array\n",
    "    world = sports.reshape(10, 10)\n",
    "    \n",
    "    #print the world so you can look at the matrix before and after running the schelling algorithm\n",
    "    print(world)\n",
    "    \n",
    "    return world"
   ]
  },
  {
   "cell_type": "markdown",
   "id": "81fbcf52",
   "metadata": {},
   "source": [
    "#### Function to initialize the starting matrix for the 3rd scenario"
   ]
  },
  {
   "cell_type": "code",
   "execution_count": 3,
   "id": "9b107b18",
   "metadata": {},
   "outputs": [],
   "source": [
    "#Scenario 3 Start-Up\n",
    "def startUp3():\n",
    "    #make a randomized array with 33 Winter sport fans, 33 summer sport fans, and 34 winter/summer sport fans\n",
    "    sports = np.random.randint(1, 4, 100)\n",
    "    np.random.shuffle(sports) # shuffle array\n",
    "    \n",
    "    #once you have a randomized initial array, randomly select 12 homes and make them vacant\n",
    "    for i in range(12):\n",
    "        index = np.random.randint(0, 100) # randomly select a number between 0 and 100\n",
    "        sports[index] = 0 # set the randomly selected index to 0\n",
    "        \n",
    "    #reshape our array so it is in a 10x10 matrix rather than a 1x100 array\n",
    "    world = sports.reshape(10, 10)\n",
    "    \n",
    "    #print the world so you can look at the matrix before and after running the schelling algorithm\n",
    "    print(world)\n",
    "    \n",
    "    return world"
   ]
  },
  {
   "cell_type": "markdown",
   "id": "4284e05c",
   "metadata": {},
   "source": [
    "### Determine which cells are vacant\n",
    "\n",
    "Create a function to find the locations of the vacant spaces."
   ]
  },
  {
   "cell_type": "code",
   "execution_count": 4,
   "id": "748ed3ff",
   "metadata": {},
   "outputs": [],
   "source": [
    "#determines the locations in the matrix where homes are vacant\n",
    "#function takes in matrix that contains neighbor info, we return the list of indices where the homes are vacant\n",
    "def vacancies(world):\n",
    "    vacant_homes = list('')\n",
    "    \n",
    "    #loop through every row in the world matrix:\n",
    "    for i in range(len(world)):\n",
    "        #Nested loop through every column in the current row of the world matrix:\n",
    "        for j in range(len(world[i])):\n",
    "             #if the current home is vacant (i.e. = 0)\n",
    "            if world[i][j] == 0:\n",
    "                #append the current row/column indices to the vacant_homes list\n",
    "                index = [i, j]\n",
    "                vacant_homes.append(index)\n",
    "                \n",
    "    return vacant_homes"
   ]
  },
  {
   "cell_type": "markdown",
   "id": "9e96b957",
   "metadata": {},
   "source": [
    "### Move Neighbor\n",
    "\n",
    "Create a function to move the people in a home that does not meeting the neighbor requirements to a vacant home. You should randomly choose a set of indices that are stored in 'vacant_homes' and perform a swap with current home type and the vacant home type. After the home is swapped return our updated world."
   ]
  },
  {
   "cell_type": "code",
   "execution_count": 5,
   "id": "d7a012f2",
   "metadata": {
    "tags": []
   },
   "outputs": [],
   "source": [
    "#relocates a family that has insufficient neighbors to a random empty cell\n",
    "#function takes in a row and column index, a list of indices containing the vacant homes, and a matrix of the world\n",
    "def move(row, col, vacant_homes, world):\n",
    "    # randomly choose a vacant_home from the list\n",
    "    np.random.shuffle(vacant_homes) # shuffle vacant array\n",
    "    vacant = vacant_homes[0] # now that array has been shuffled, select vacant home at index 0\n",
    "    #print(\"Orig. Vacant \", vacant)\n",
    "    #print(\"Orig. World\")\n",
    "    #print(world)\n",
    "    \n",
    "    # separate vacant home to row and col\n",
    "    vacantRow = vacant[0]\n",
    "    vacantCol = vacant[1]\n",
    "    \n",
    "    # move unhappy people to vacant home and mark previously occupied home as occupied\n",
    "    world[row][col], world[vacantRow][vacantCol] = world[vacantRow][vacantCol], world[row][col]\n",
    "\n",
    "    return world"
   ]
  },
  {
   "cell_type": "markdown",
   "id": "f0c66a9a",
   "metadata": {},
   "source": [
    "### Determine Neighbors\n",
    "\n",
    "Create a function to determine which neighbors are surrounding the current home. Keep in mind that this is a torus model. That means the far left column connects with the far right column, and the top row connects to the bottom row. Think of the model as a sphere or world rather than a grid or world. It might help to draw/print out an example matrix to help visualize what the neighbor would be for edge columns/rows. All cells will have 8 neighbors. Make sure to include all of them in the if-statements. "
   ]
  },
  {
   "cell_type": "code",
   "execution_count": 6,
   "id": "33e679dd",
   "metadata": {},
   "outputs": [],
   "source": [
    "#creates a list of neighboring cells that surround a given cell. \n",
    "#Left/Right/Top/Bottom columns/rows wrap around so everything is connected\n",
    "\n",
    "def whosAround(row, col, world):\n",
    "    \n",
    "    #if statement for inner columns / rows:\n",
    "    if row > 0 and row < 9 and col > 0 and col < 9:\n",
    "        left = world[row][col - 1]\n",
    "        right = world[row][col + 1]\n",
    "        top_left = world[row - 1][col - 1]\n",
    "        top_middle = world[row - 1][col]\n",
    "        top_right = world[row - 1][col + 1]\n",
    "        bottom_left = world[row + 1][col - 1] \n",
    "        bottom_middle = world[row + 1][col]\n",
    "        bottom_right = world[row + 1][col + 1]\n",
    "    \n",
    "    #elif statement for top left corner:\n",
    "    elif col == 0 and row == 0:\n",
    "        left = world[row][9] \n",
    "        right = world[row][col + 1]\n",
    "        top_left = world[9][9]\n",
    "        top_middle = world[9][col] \n",
    "        top_right = world[9][col + 1] \n",
    "        bottom_left = world[row + 1][9] \n",
    "        bottom_middle = world[row + 1][col]\n",
    "        bottom_right = world[row + 1][col + 1]\n",
    "        \n",
    "    #elif statement for top right corner:\n",
    "    elif row == 0 and col == 9:\n",
    "        left = world[row][col - 1] \n",
    "        right = world[row][0]\n",
    "        top_left = world[9][col - 1]\n",
    "        top_middle = world[9][col]\n",
    "        top_right = world[9][0]\n",
    "        bottom_left = world[row + 1][col - 1]\n",
    "        bottom_middle = world[row + 1][col]\n",
    "        bottom_right = world[row + 1][0]\n",
    "        \n",
    "    #elif statement for bottom left corner:\n",
    "    elif row == 9 and col == 0:\n",
    "        left = world[row][9]\n",
    "        right = world[row][col + 1]\n",
    "        top_left = world[row - 1][9]\n",
    "        top_middle = world[row - 1][col]\n",
    "        top_right = world[row - 1][col + 1] \n",
    "        bottom_left = world[0][9] \n",
    "        bottom_middle = world[0][col]\n",
    "        bottom_right = world[0][col + 1]\n",
    "        \n",
    "    #elif statement for bottom right corner:\n",
    "    elif row == 9 and col == 9:\n",
    "        left = world[row][col - 1] \n",
    "        right = world[row][0]\n",
    "        top_left = world[row - 1][col - 1]\n",
    "        top_middle = world[row - 1][col]\n",
    "        top_right = world[row - 1][0]\n",
    "        bottom_left = world[0][col - 1] \n",
    "        bottom_middle = world[0][col]\n",
    "        bottom_right = world[0][0]\n",
    "    #elif statement for far left column:\n",
    "    elif col == 0:\n",
    "        left = world[row][9] \n",
    "        right = world[row][col + 1]\n",
    "        top_left = world[row - 1][9]\n",
    "        top_middle = world[row - 1][col]\n",
    "        top_right = world[row - 1][col + 1]\n",
    "        bottom_left = world[row + 1][9]\n",
    "        bottom_middle = world[row + 1][col]\n",
    "        bottom_right = world[row + 1][col + 1]\n",
    "        \n",
    "    #elif statement for far right column:\n",
    "    elif col == 9:\n",
    "        left = world[row][col - 1] \n",
    "        right = world[row][0]\n",
    "        top_left = world[row - 1][col - 1]\n",
    "        top_middle = world[row - 1][col]\n",
    "        top_right = world[row - 1][0] \n",
    "        bottom_left = world[row + 1][col - 1] \n",
    "        bottom_middle = world[row + 1][col]\n",
    "        bottom_right = world[row + 1][0]\n",
    "        \n",
    "    #elif statement for top row:\n",
    "    elif row == 0:\n",
    "        left =  world[row][col - 1]\n",
    "        right = world[row][col + 1]\n",
    "        top_left = world[9][col - 1]\n",
    "        top_middle = world[9][col]\n",
    "        top_right = world[9][col + 1] \n",
    "        bottom_left = world[row + 1][col - 1] \n",
    "        bottom_middle = world[row + 1][col]\n",
    "        bottom_right = world[row + 1][col + 1]\n",
    "        \n",
    "    #elif statement for bottom row:\n",
    "    elif row == 9:\n",
    "        left = world[row][col - 1] \n",
    "        right = world[row][col + 1]\n",
    "        top_left = world[row - 1][col - 1]\n",
    "        top_middle = world[row - 1][col]\n",
    "        top_right = world[row - 1][col + 1] \n",
    "        bottom_left = world[0][col - 1] \n",
    "        bottom_middle = world[0][col]\n",
    "        bottom_right = world[0][col + 1]\n",
    "        \n",
    "    neighbors = np.array([left, right, top_left, top_middle, top_right, bottom_left, bottom_middle, bottom_right])\n",
    "    \n",
    "    return neighbors"
   ]
  },
  {
   "cell_type": "markdown",
   "id": "621e1381",
   "metadata": {},
   "source": [
    "### Create a Schelling Model that implements the rules describes in Scenario 1: \n",
    "\n",
    "This means that a Winter sports fan must have at least 4 neighbors that are also Winter sports fans. If they do not have at least 4 neighbors we have to move them.\n",
    "\n",
    "Use the helper functions you previously made to create this. i.e. vacancies(), whosAround(), and move() will all be necessary to complete this function."
   ]
  },
  {
   "cell_type": "code",
   "execution_count": 7,
   "id": "a57e57da",
   "metadata": {},
   "outputs": [],
   "source": [
    "def SchellingModel1(world):\n",
    "    diff_check = 0\n",
    "    #loop through every row in the world matrix:\n",
    "    for i in range(len(world)):\n",
    "        #Nested loop through every column in the current row of the world matrix:\n",
    "        for j in range(len(world[i])):\n",
    "            #refresh list of vacant homes\n",
    "            vacantHomes = vacancies(world)\n",
    "            #refresh neighbors\n",
    "            neighbors = whosAround(i, j, world) \n",
    "            #get value of current row/col location\n",
    "            current = world[i][j]\n",
    "            #set count of same neighbor = 0\n",
    "            count_of_same_neighbor = 0\n",
    "            #loop through list returned from whosAround function\n",
    "            for neighbor in neighbors:\n",
    "                #if neighbor is the same as current location in matrix increase the count of same neighbor.\n",
    "                if neighbor == current:\n",
    "                    count_of_same_neighbor = count_of_same_neighbor + 1\n",
    "            #after looping through neighbors, check count of same neighbors\n",
    "            #if it is less than 4 increase the diff_check\n",
    "            if count_of_same_neighbor < 4:\n",
    "                diff_check = diff_check + 1\n",
    "                #call move() with updated world because neighbor requirement not met\n",
    "                move(i, j, vacantHomes, world)\n",
    "    return world, diff_check"
   ]
  },
  {
   "cell_type": "markdown",
   "id": "36892e5a",
   "metadata": {},
   "source": [
    "### Create a Schelling model that implements the rules described in scenario 2:\n",
    "\n",
    "This means that a Winter/Summer sports fan must have between 1 and 4 neighbors to be considered sufficient.\n",
    "\n",
    "Once again, use the helper functions that you created earlier to solve this function."
   ]
  },
  {
   "cell_type": "code",
   "execution_count": 8,
   "id": "494f0455",
   "metadata": {},
   "outputs": [],
   "source": [
    "def SchellingModel2(world):\n",
    "    diff_check = 0\n",
    "     #loop through every row in the world matrix:\n",
    "    for i in range(len(world)):\n",
    "        #Nested loop through every column in the current row of the world matrix:\n",
    "        for j in range(len(world[i])):\n",
    "            #refresh list of vacant homes\n",
    "            vacantHomes = vacancies(world)\n",
    "            #refresh neighbors\n",
    "            neighbors = whosAround(i, j, world) \n",
    "            #get value of current row/col location\n",
    "            current = world[i][j]\n",
    "            #set count of same neighbor = 0\n",
    "            count_of_same_neighbor = 0\n",
    "            #loop through list returned from whosAround function\n",
    "            for neighbor in neighbors:\n",
    "                #if neighbor is the same as current location in matrix increase the count of same neighbor.\n",
    "                if neighbor == current:\n",
    "                    count_of_same_neighbor = count_of_same_neighbor + 1\n",
    "            #after looping through neighbors, check count of same neighbors\n",
    "            #if it is less than 1 or greater than 4 increase the diff_check\n",
    "            if count_of_same_neighbor < 1 or count_of_same_neighbor > 4:\n",
    "                diff_check = diff_check + 1\n",
    "                #call move() with updated world because neighbor requirement not met\n",
    "                move(i, j, vacantHomes, world)\n",
    "    return world, diff_check"
   ]
  },
  {
   "cell_type": "markdown",
   "id": "bd660989",
   "metadata": {},
   "source": [
    "### Create a Schelling Model that implements the rules described in scenario 3:\n",
    "\n",
    "This means that Winter and Summer sports fans must have at least 4 neighbors that like the same season for sports as them or both seasons of sports."
   ]
  },
  {
   "cell_type": "code",
   "execution_count": 9,
   "id": "726d51a5",
   "metadata": {},
   "outputs": [],
   "source": [
    "def SchellingModel3(world):\n",
    "    diff_check = 0\n",
    "    #loop through every row in the world matrix:\n",
    "    for i in range(len(world)):\n",
    "        #Nested loop through every column in the current row of the world matrix:\n",
    "        for j in range(len(world[i])):\n",
    "            #refresh list of vacant homes\n",
    "            vacantHomes = vacancies(world)\n",
    "            #refresh neighbors\n",
    "            neighbors = whosAround(i, j, world) \n",
    "            #get value of current row/col location\n",
    "            current = world[i][j]\n",
    "            #set count of same neighbor = 0\n",
    "            count_of_same_neighbor = 0\n",
    "            #loop through list returned from whosAround function\n",
    "            for neighbor in neighbors:\n",
    "                #increase count if current home only like one season of sports and neighbor likes both seasons of sports or the same season of sports as the current home\n",
    "                if neighbor == 3 or neighbor == current and current != 3:\n",
    "                    count_of_same_neighbor = count_of_same_neighbor + 1\n",
    "                #increase count if current home likes both seasons of sports and neighbor likes both season of sports, summer sports, or winter sports\n",
    "                if neighbor != 0 and current == 3:\n",
    "                    count_of_same_neighbor = count_of_same_neighbor + 1\n",
    "            #after looping through neighbors, check count of same neighbors\n",
    "            #if it is less than 4 increase the diff_check\n",
    "            if count_of_same_neighbor < 4:\n",
    "                diff_check = diff_check + 1\n",
    "                #call move() with updated world because neighbor requirement not met\n",
    "                move(i, j, vacantHomes, world)\n",
    "    return world, diff_check"
   ]
  },
  {
   "cell_type": "markdown",
   "id": "46760d0a",
   "metadata": {},
   "source": [
    "### Create a Main Function For Scenario 1, 2 and 3:\n",
    "\n",
    "You should run the Schelling Model function until there are only 12 neighbors who do not meet the requirements. These 12 neighbors represent the 12 vacant homes. I recommend using a while loop that calls the Schelling Model function until the number of neighbors not meeting requirements is 12. \n",
    "\n",
    "Use plt.imshow() to create a graphic visualization of your matrix. You should be able to produce a graph that represents the new sorted world for each condition.\n",
    "\n",
    "You should print out the current amount of homes that have too many neighbors that prefer a different season of sports as they do. Once this value hits 0 you know that your graph is sorted. You should also do a visual check as well to make sure that the value being printed is true."
   ]
  },
  {
   "cell_type": "code",
   "execution_count": 10,
   "id": "d9837ed9",
   "metadata": {},
   "outputs": [],
   "source": [
    "#Call the ShellingModel function and run through the entire matrix until the number of 'bad_neighbors' is 12. The 12 bad neighbors represent the 12 empty spaces.\n",
    "def check1(world):\n",
    "    world, diff_check = SchellingModel1(world)\n",
    "    #while some homes have too many different neighbors:\n",
    "    while diff_check > 12:\n",
    "        world, diff_check = SchellingModel1(world)\n",
    "        #if diff_check is over the thresh-hold:\n",
    "        if diff_check > 12:\n",
    "            #print out the world, continue while loop\n",
    "            print(\"World when diff_check > 12\")\n",
    "            print(world)\n",
    "            continue\n",
    "        #if every home has suffienct neighbors:\n",
    "        if diff_check <= 12:\n",
    "            # print out the world, then show image of world using plt.imshow() and return\n",
    "            print(\"World when every home has sufficient neighbors\")\n",
    "            print(world)\n",
    "            plt.imshow(world)\n",
    "            #nameOfYourPlot.set_cmap() can be used to change the color scheme of the graphs if you would like to do so\n",
    "            #look into colormappings if you would like to see a list of the various schemes that are available to you.\n",
    "            plt.show()\n",
    "            return"
   ]
  },
  {
   "cell_type": "code",
   "execution_count": 11,
   "id": "7666d05a",
   "metadata": {},
   "outputs": [
    {
     "name": "stdout",
     "output_type": "stream",
     "text": [
      "[[2 2 2 2 2 1 2 1 1 2]\n",
      " [2 2 0 2 2 1 0 2 1 1]\n",
      " [1 1 2 1 0 1 0 2 1 2]\n",
      " [1 1 1 1 0 1 1 1 1 1]\n",
      " [1 2 1 2 2 2 2 1 1 1]\n",
      " [2 2 0 0 2 2 2 1 1 1]\n",
      " [1 1 0 2 2 0 1 1 2 2]\n",
      " [2 2 2 2 1 2 2 2 2 1]\n",
      " [1 1 1 1 2 1 2 1 0 2]\n",
      " [1 1 1 2 1 1 0 1 0 1]]\n",
      "World when diff_check > 12\n",
      "[[2 2 2 2 2 1 1 1 1 1]\n",
      " [2 2 2 2 2 1 1 1 1 1]\n",
      " [1 1 2 2 0 1 1 1 1 1]\n",
      " [1 1 1 2 2 2 1 1 1 1]\n",
      " [1 1 2 2 2 2 1 1 1 1]\n",
      " [1 2 2 2 2 2 1 1 1 1]\n",
      " [1 1 2 2 2 2 2 2 2 0]\n",
      " [1 0 1 2 1 2 2 2 2 2]\n",
      " [0 1 1 0 0 0 1 2 2 2]\n",
      " [0 2 0 0 0 1 1 1 1 0]]\n",
      "World when diff_check > 12\n",
      "[[2 2 2 2 2 1 1 1 1 1]\n",
      " [2 2 2 2 2 1 1 1 1 1]\n",
      " [1 1 2 2 2 1 1 1 1 1]\n",
      " [1 1 1 2 2 2 1 1 1 1]\n",
      " [1 1 2 2 2 2 1 1 1 1]\n",
      " [1 1 2 2 2 2 0 1 1 1]\n",
      " [1 1 2 2 2 2 2 2 2 2]\n",
      " [0 1 2 0 2 2 2 2 2 2]\n",
      " [1 0 1 0 0 1 1 2 2 0]\n",
      " [0 0 0 0 0 1 1 1 1 1]]\n",
      "World when diff_check > 12\n",
      "[[2 2 2 2 0 1 1 1 1 1]\n",
      " [1 2 2 2 2 1 1 1 1 1]\n",
      " [1 1 2 2 2 1 1 1 1 1]\n",
      " [1 1 1 2 2 2 1 1 1 1]\n",
      " [1 1 2 2 2 2 1 1 1 1]\n",
      " [1 1 2 2 2 2 2 1 1 1]\n",
      " [1 1 2 2 2 2 2 2 2 0]\n",
      " [0 1 0 1 2 2 2 2 2 2]\n",
      " [0 1 1 1 0 1 2 2 2 2]\n",
      " [0 2 0 0 0 0 1 1 1 0]]\n",
      "World when diff_check > 12\n",
      "[[1 2 2 2 0 1 1 1 1 1]\n",
      " [1 2 2 2 2 1 1 1 1 1]\n",
      " [1 1 2 2 2 1 1 1 1 1]\n",
      " [1 1 2 2 2 2 1 1 1 1]\n",
      " [1 1 2 2 2 2 1 1 1 1]\n",
      " [1 1 2 2 2 2 2 1 1 1]\n",
      " [1 1 1 2 2 2 2 2 2 0]\n",
      " [0 1 1 2 2 2 2 2 2 2]\n",
      " [0 0 0 2 0 1 2 2 2 0]\n",
      " [2 0 0 0 0 1 1 1 1 1]]\n",
      "World when diff_check > 12\n",
      "[[1 2 2 2 2 1 1 1 1 1]\n",
      " [1 2 2 2 2 1 1 1 1 1]\n",
      " [1 1 2 2 2 1 1 1 1 1]\n",
      " [1 1 2 2 2 2 1 1 1 1]\n",
      " [1 1 2 2 2 2 1 1 1 1]\n",
      " [1 1 2 2 2 2 2 1 1 1]\n",
      " [1 1 1 2 2 2 2 2 2 2]\n",
      " [0 1 1 2 2 2 2 2 2 0]\n",
      " [2 1 1 0 0 2 2 2 0 0]\n",
      " [0 0 0 0 0 0 1 1 1 1]]\n",
      "World when diff_check > 12\n",
      "[[1 0 2 2 2 1 1 1 1 1]\n",
      " [1 2 2 2 2 1 1 1 1 1]\n",
      " [1 1 2 2 2 1 1 1 1 1]\n",
      " [1 1 2 2 2 2 1 1 1 1]\n",
      " [1 1 2 2 2 2 1 1 1 1]\n",
      " [1 1 2 2 2 2 2 1 1 1]\n",
      " [1 1 1 2 2 2 2 2 2 0]\n",
      " [0 1 1 2 2 2 2 2 2 0]\n",
      " [0 1 0 2 2 2 2 2 1 0]\n",
      " [0 0 0 0 0 2 1 1 1 1]]\n",
      "World when diff_check > 12\n",
      "[[1 2 2 2 2 1 1 1 1 1]\n",
      " [1 0 2 2 2 1 1 1 1 1]\n",
      " [1 1 2 2 2 1 1 1 1 1]\n",
      " [1 1 2 2 2 2 1 1 1 1]\n",
      " [1 1 2 2 2 2 1 1 1 1]\n",
      " [1 1 2 2 2 2 2 1 1 1]\n",
      " [1 1 1 2 2 2 2 2 1 0]\n",
      " [0 1 1 2 2 2 2 2 2 0]\n",
      " [0 2 1 2 2 2 2 0 0 0]\n",
      " [0 0 0 2 0 2 1 1 1 1]]\n",
      "World when every home has sufficient neighbors\n",
      "[[1 0 2 2 2 1 1 1 1 1]\n",
      " [1 0 2 2 2 1 1 1 1 1]\n",
      " [1 1 2 2 2 1 1 1 1 1]\n",
      " [1 1 2 2 2 2 1 1 1 1]\n",
      " [1 1 2 2 2 2 1 1 1 1]\n",
      " [1 1 2 2 2 2 2 1 1 1]\n",
      " [1 1 1 2 2 2 2 2 0 0]\n",
      " [2 1 1 2 2 2 2 2 1 0]\n",
      " [0 0 0 2 2 2 2 1 0 0]\n",
      " [0 0 2 2 2 2 1 1 1 1]]\n"
     ]
    },
    {
     "data": {
      "image/png": "[encoded data removed]",
      "text/plain": [
       "<Figure size 432x288 with 1 Axes>"
      ]
     },
     "metadata": {
      "needs_background": "light"
     },
     "output_type": "display_data"
    }
   ],
   "source": [
    "world = startUp1and2()\n",
    "check1(world)"
   ]
  },
  {
   "cell_type": "markdown",
   "id": "b0a59d3e",
   "metadata": {},
   "source": [
    "### Main Function For Scenario 2:"
   ]
  },
  {
   "cell_type": "code",
   "execution_count": 12,
   "id": "55fcd3ef",
   "metadata": {},
   "outputs": [],
   "source": [
    "def check2(world):\n",
    "    world, diff_check = SchellingModel2(world)\n",
    "    #while some homes have too many different neighbors:\n",
    "    while diff_check > 12:\n",
    "        world, diff_check = SchellingModel2(world)\n",
    "        #if diff_check is over the thresh-hold:\n",
    "        if diff_check > 12:\n",
    "            #print out the world, continue while loop\n",
    "            print(\"World when diff_check > 12\")\n",
    "            print(world)\n",
    "            continue\n",
    "        #if every home has suffienct neighbors:\n",
    "        if diff_check <= 12:\n",
    "            print(\"World when every home has sufficient neighbors\")\n",
    "            print(world)\n",
    "            plt.imshow(world)\n",
    "            #nameOfYourPlot.set_cmap() can be used to change the color scheme of the graphs if you would like to do so\n",
    "            #look into colormappings if you would like to see a list of the various schemes that are available to you.\n",
    "            plt.show()\n",
    "            return"
   ]
  },
  {
   "cell_type": "code",
   "execution_count": 13,
   "id": "4a340de8",
   "metadata": {},
   "outputs": [
    {
     "name": "stdout",
     "output_type": "stream",
     "text": [
      "[[1 1 2 2 1 2 1 0 1 1]\n",
      " [1 2 2 1 1 1 2 2 2 2]\n",
      " [2 1 0 2 1 1 1 2 1 2]\n",
      " [1 1 1 2 2 2 1 2 0 2]\n",
      " [2 2 1 2 2 2 2 1 1 1]\n",
      " [0 2 1 1 2 2 0 2 0 1]\n",
      " [1 1 2 2 1 2 2 1 2 2]\n",
      " [1 1 2 0 0 2 2 1 1 0]\n",
      " [2 1 2 2 2 1 1 0 2 2]\n",
      " [2 1 1 2 1 1 1 0 1 2]]\n",
      "World when diff_check > 12\n",
      "[[1 1 2 2 1 2 1 1 1 1]\n",
      " [1 2 2 1 1 2 2 2 2 2]\n",
      " [2 1 2 2 1 1 1 0 0 0]\n",
      " [1 1 1 2 0 2 1 2 2 2]\n",
      " [2 2 1 2 1 2 0 1 1 1]\n",
      " [1 2 1 1 2 2 1 2 2 1]\n",
      " [0 1 2 2 1 2 0 1 2 2]\n",
      " [1 1 2 0 0 2 2 1 1 0]\n",
      " [2 1 2 2 2 1 1 2 2 2]\n",
      " [2 1 1 0 1 2 1 2 1 2]]\n",
      "World when every home has sufficient neighbors\n",
      "[[1 1 2 2 1 2 1 1 1 1]\n",
      " [1 2 0 1 1 2 2 2 2 2]\n",
      " [2 1 2 2 1 1 1 2 0 0]\n",
      " [1 1 1 2 0 2 1 2 2 2]\n",
      " [2 2 1 2 1 2 0 1 1 1]\n",
      " [1 2 1 1 0 2 1 2 2 1]\n",
      " [2 1 2 2 1 2 0 1 2 2]\n",
      " [1 1 2 0 0 2 2 1 1 0]\n",
      " [2 1 2 2 2 1 1 2 2 2]\n",
      " [2 1 1 0 1 2 1 2 1 2]]\n"
     ]
    },
    {
     "data": {
      "image/png": "[encoded data removed]",
      "text/plain": [
       "<Figure size 432x288 with 1 Axes>"
      ]
     },
     "metadata": {
      "needs_background": "light"
     },
     "output_type": "display_data"
    }
   ],
   "source": [
    "world = startUp1and2()\n",
    "check2(world)"
   ]
  },
  {
   "cell_type": "markdown",
   "id": "82cb5eac",
   "metadata": {},
   "source": [
    "### Main Function For Scenario 3:"
   ]
  },
  {
   "cell_type": "code",
   "execution_count": 14,
   "id": "58e9f6e3",
   "metadata": {},
   "outputs": [],
   "source": [
    "def check3(world):\n",
    "    world, diff_check = SchellingModel3(world)\n",
    "    #while some homes have too many different neighbors:\n",
    "    while diff_check > 12:\n",
    "        world, diff_check = SchellingModel3(world)\n",
    "        #if diff_check is over the thresh-hold:\n",
    "        if diff_check > 12:\n",
    "            #print out the world, continue while loop\n",
    "            print(\"World when diff_check > 12\")\n",
    "            print(world)\n",
    "            continue\n",
    "        #if every home has suffienct neighbors:\n",
    "        if diff_check <= 12:\n",
    "            #print out the world, then show image of world using plt.imshow() and return\n",
    "            print(\"World when every home has sufficient neighbors\")\n",
    "            print(world)\n",
    "            plt.imshow(world)\n",
    "            #nameOfYourPlot.set_cmap() can be used to change the color scheme of the graphs if you would like to do so\n",
    "            #look into colormappings if you would like to see a list of the various schemes that are available to you.\n",
    "            plt.show()\n",
    "            return"
   ]
  },
  {
   "cell_type": "code",
   "execution_count": 15,
   "id": "f97e50c1",
   "metadata": {},
   "outputs": [
    {
     "name": "stdout",
     "output_type": "stream",
     "text": [
      "[[1 0 2 1 3 2 1 3 3 1]\n",
      " [1 3 2 0 2 1 3 3 2 1]\n",
      " [1 3 2 1 2 1 3 0 2 3]\n",
      " [1 0 2 1 2 0 2 1 1 1]\n",
      " [1 3 0 2 2 1 0 1 1 1]\n",
      " [3 2 2 3 0 3 3 0 2 1]\n",
      " [1 0 2 1 3 1 1 3 1 1]\n",
      " [1 1 1 3 2 1 1 2 1 3]\n",
      " [2 1 1 3 0 1 3 1 1 3]\n",
      " [3 3 2 3 3 3 3 2 3 0]]\n",
      "World when every home has sufficient neighbors\n",
      "[[1 2 2 2 3 2 1 3 3 1]\n",
      " [1 3 2 2 2 1 3 3 2 1]\n",
      " [1 3 2 0 2 2 3 0 1 3]\n",
      " [1 1 2 2 0 0 0 1 1 1]\n",
      " [1 3 0 2 0 0 1 1 1 1]\n",
      " [3 2 2 3 2 3 3 0 0 1]\n",
      " [1 2 2 1 3 1 1 3 1 1]\n",
      " [1 1 1 3 0 1 1 0 1 3]\n",
      " [2 1 1 3 1 1 3 1 1 3]\n",
      " [3 3 2 3 3 3 3 2 3 1]]\n"
     ]
    },
    {
     "data": {
      "image/png": "[encoded data removed]",
      "text/plain": [
       "<Figure size 432x288 with 1 Axes>"
      ]
     },
     "metadata": {
      "needs_background": "light"
     },
     "output_type": "display_data"
    }
   ],
   "source": [
    "world = startUp3()\n",
    "check3(world)"
   ]
  },
  {
   "cell_type": "code",
   "execution_count": null,
   "id": "6b578329-e851-4556-9e86-186482d00247",
   "metadata": {},
   "outputs": [],
   "source": []
  }
 ],
 "metadata": {
  "kernelspec": {
   "display_name": "Python 3 (ipykernel)",
   "language": "python",
   "name": "python3"
  },
  "language_info": {
   "codemirror_mode": {
    "name": "ipython",
    "version": 3
   },
   "file_extension": ".py",
   "mimetype": "text/x-python",
   "name": "python",
   "nbconvert_exporter": "python",
   "pygments_lexer": "ipython3",
   "version": "3.10.8"
  }
 },
 "nbformat": 4,
 "nbformat_minor": 5
}
